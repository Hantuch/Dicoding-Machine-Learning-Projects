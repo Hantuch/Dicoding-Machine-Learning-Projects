{
  "nbformat": 4,
  "nbformat_minor": 0,
  "metadata": {
    "colab": {
      "name": "ML_Pengembangan_NLP_Submission_Hanif_Rachmadani",
      "provenance": [],
      "collapsed_sections": []
    },
    "kernelspec": {
      "name": "python3",
      "display_name": "Python 3"
    },
    "accelerator": "GPU"
  },
  "cells": [
    {
      "cell_type": "code",
      "metadata": {
        "id": "CpD5i8_HK3Ld"
      },
      "source": [
        "# Dicoding Course \"Belajar Pengembangan Machine Learning\" 1st Project: NLP\n",
        "\n",
        "# News Category Classifier\n",
        "\n",
        "# Hanif Rachmadani on 14/07/2021.\n",
        "\n",
        "# Dataset used : https://www.kaggle.com/hgultekin/bbcnewsarchive"
      ],
      "execution_count": 83,
      "outputs": []
    },
    {
      "cell_type": "code",
      "metadata": {
        "id": "AATzcBWpGuyG"
      },
      "source": [
        "# TF & Data-prepping Libraries Import\n",
        "\n",
        "from google.colab import files\n",
        "\n",
        "import tensorflow as tf\n",
        "import pandas as pd\n",
        "\n",
        "from sklearn.model_selection import train_test_split"
      ],
      "execution_count": 1,
      "outputs": []
    },
    {
      "cell_type": "code",
      "metadata": {
        "id": "DRSrhuatHGi-",
        "colab": {
          "resources": {
            "http://localhost:8080/nbextensions/google.colab/files.js": {
              "data": "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",
              "ok": true,
              "headers": [
                [
                  "content-type",
                  "application/javascript"
                ]
              ],
              "status": 200,
              "status_text": ""
            }
          },
          "base_uri": "https://localhost:8080/",
          "height": 187
        },
        "outputId": "e05d6fe4-a32e-457b-c2c4-6457ee3311cd"
      },
      "source": [
        "# Dataset Download\n",
        "\n",
        "files.upload()\n",
        "\n",
        "!mkdir -p ~/.kaggle\n",
        "!cp kaggle.json ~/.kaggle/\n",
        "!chmod 600 ~/.kaggle/kaggle.json\n",
        "!ls ~/.kaggle\n",
        "\n",
        "!kaggle datasets download -d hgultekin/bbcnewsarchive\n",
        "\n",
        "!mkdir bbcnewsarchive\n",
        "!unzip bbcnewsarchive.zip -d bbcnewsarchive\n",
        "!ls bbcnewsarchive"
      ],
      "execution_count": 2,
      "outputs": [
        {
          "output_type": "display_data",
          "data": {
            "text/html": [
              "\n",
              "     <input type=\"file\" id=\"files-ec0dd80f-26a7-4ac4-abbd-67b746303bdb\" name=\"files[]\" multiple disabled\n",
              "        style=\"border:none\" />\n",
              "     <output id=\"result-ec0dd80f-26a7-4ac4-abbd-67b746303bdb\">\n",
              "      Upload widget is only available when the cell has been executed in the\n",
              "      current browser session. Please rerun this cell to enable.\n",
              "      </output>\n",
              "      <script src=\"/nbextensions/google.colab/files.js\"></script> "
            ],
            "text/plain": [
              "<IPython.core.display.HTML object>"
            ]
          },
          "metadata": {
            "tags": []
          }
        },
        {
          "output_type": "stream",
          "text": [
            "Saving kaggle.json to kaggle (5).json\n",
            "kaggle.json\n",
            "bbcnewsarchive.zip: Skipping, found more recently modified local copy (use --force to force download)\n",
            "mkdir: cannot create directory ‘bbcnewsarchive’: File exists\n",
            "Archive:  bbcnewsarchive.zip\n",
            "replace bbcnewsarchive/bbc-news-data.csv? [y]es, [n]o, [A]ll, [N]one, [r]ename: y\n",
            "  inflating: bbcnewsarchive/bbc-news-data.csv  \n",
            "bbc-news-data.csv\n"
          ],
          "name": "stdout"
        }
      ]
    },
    {
      "cell_type": "code",
      "metadata": {
        "colab": {
          "base_uri": "https://localhost:8080/",
          "height": 202
        },
        "id": "P0-McdOHdpwK",
        "outputId": "03288330-0a0e-4ae9-8fab-7310c25ad5b9"
      },
      "source": [
        "# Initial Dataframe Loading\n",
        "\n",
        "df_initial = pd.read_csv('bbcnewsarchive/bbc-news-data.csv', sep='\\t')\n",
        "\n",
        "df_initial.head()"
      ],
      "execution_count": 3,
      "outputs": [
        {
          "output_type": "execute_result",
          "data": {
            "text/html": [
              "<div>\n",
              "<style scoped>\n",
              "    .dataframe tbody tr th:only-of-type {\n",
              "        vertical-align: middle;\n",
              "    }\n",
              "\n",
              "    .dataframe tbody tr th {\n",
              "        vertical-align: top;\n",
              "    }\n",
              "\n",
              "    .dataframe thead th {\n",
              "        text-align: right;\n",
              "    }\n",
              "</style>\n",
              "<table border=\"1\" class=\"dataframe\">\n",
              "  <thead>\n",
              "    <tr style=\"text-align: right;\">\n",
              "      <th></th>\n",
              "      <th>category</th>\n",
              "      <th>filename</th>\n",
              "      <th>title</th>\n",
              "      <th>content</th>\n",
              "    </tr>\n",
              "  </thead>\n",
              "  <tbody>\n",
              "    <tr>\n",
              "      <th>0</th>\n",
              "      <td>business</td>\n",
              "      <td>001.txt</td>\n",
              "      <td>Ad sales boost Time Warner profit</td>\n",
              "      <td>Quarterly profits at US media giant TimeWarne...</td>\n",
              "    </tr>\n",
              "    <tr>\n",
              "      <th>1</th>\n",
              "      <td>business</td>\n",
              "      <td>002.txt</td>\n",
              "      <td>Dollar gains on Greenspan speech</td>\n",
              "      <td>The dollar has hit its highest level against ...</td>\n",
              "    </tr>\n",
              "    <tr>\n",
              "      <th>2</th>\n",
              "      <td>business</td>\n",
              "      <td>003.txt</td>\n",
              "      <td>Yukos unit buyer faces loan claim</td>\n",
              "      <td>The owners of embattled Russian oil giant Yuk...</td>\n",
              "    </tr>\n",
              "    <tr>\n",
              "      <th>3</th>\n",
              "      <td>business</td>\n",
              "      <td>004.txt</td>\n",
              "      <td>High fuel prices hit BA's profits</td>\n",
              "      <td>British Airways has blamed high fuel prices f...</td>\n",
              "    </tr>\n",
              "    <tr>\n",
              "      <th>4</th>\n",
              "      <td>business</td>\n",
              "      <td>005.txt</td>\n",
              "      <td>Pernod takeover talk lifts Domecq</td>\n",
              "      <td>Shares in UK drinks and food firm Allied Dome...</td>\n",
              "    </tr>\n",
              "  </tbody>\n",
              "</table>\n",
              "</div>"
            ],
            "text/plain": [
              "   category  ...                                            content\n",
              "0  business  ...   Quarterly profits at US media giant TimeWarne...\n",
              "1  business  ...   The dollar has hit its highest level against ...\n",
              "2  business  ...   The owners of embattled Russian oil giant Yuk...\n",
              "3  business  ...   British Airways has blamed high fuel prices f...\n",
              "4  business  ...   Shares in UK drinks and food firm Allied Dome...\n",
              "\n",
              "[5 rows x 4 columns]"
            ]
          },
          "metadata": {
            "tags": []
          },
          "execution_count": 3
        }
      ]
    },
    {
      "cell_type": "code",
      "metadata": {
        "id": "RTBu2oJfHIbH",
        "colab": {
          "base_uri": "https://localhost:8080/",
          "height": 202
        },
        "outputId": "9441fc6e-3c1b-4a3f-de6f-3ccc019082c7"
      },
      "source": [
        "# Dataframe Prepping\n",
        "\n",
        "emotion = pd.get_dummies(df_initial.category)\n",
        "df_new = pd.concat([df_initial,emotion],axis=1)\n",
        "\n",
        "df_new['title'] = df_new['title'] + df_new['content']\n",
        "\n",
        "df_new.rename(columns={'title':'fulltext'},inplace='true')\n",
        "df_new.drop(columns=['filename','content','category'], inplace=True)\n",
        "\n",
        "df_new.head()"
      ],
      "execution_count": 20,
      "outputs": [
        {
          "output_type": "execute_result",
          "data": {
            "text/html": [
              "<div>\n",
              "<style scoped>\n",
              "    .dataframe tbody tr th:only-of-type {\n",
              "        vertical-align: middle;\n",
              "    }\n",
              "\n",
              "    .dataframe tbody tr th {\n",
              "        vertical-align: top;\n",
              "    }\n",
              "\n",
              "    .dataframe thead th {\n",
              "        text-align: right;\n",
              "    }\n",
              "</style>\n",
              "<table border=\"1\" class=\"dataframe\">\n",
              "  <thead>\n",
              "    <tr style=\"text-align: right;\">\n",
              "      <th></th>\n",
              "      <th>fulltext</th>\n",
              "      <th>business</th>\n",
              "      <th>entertainment</th>\n",
              "      <th>politics</th>\n",
              "      <th>sport</th>\n",
              "      <th>tech</th>\n",
              "    </tr>\n",
              "  </thead>\n",
              "  <tbody>\n",
              "    <tr>\n",
              "      <th>0</th>\n",
              "      <td>Ad sales boost Time Warner profit Quarterly pr...</td>\n",
              "      <td>1</td>\n",
              "      <td>0</td>\n",
              "      <td>0</td>\n",
              "      <td>0</td>\n",
              "      <td>0</td>\n",
              "    </tr>\n",
              "    <tr>\n",
              "      <th>1</th>\n",
              "      <td>Dollar gains on Greenspan speech The dollar ha...</td>\n",
              "      <td>1</td>\n",
              "      <td>0</td>\n",
              "      <td>0</td>\n",
              "      <td>0</td>\n",
              "      <td>0</td>\n",
              "    </tr>\n",
              "    <tr>\n",
              "      <th>2</th>\n",
              "      <td>Yukos unit buyer faces loan claim The owners o...</td>\n",
              "      <td>1</td>\n",
              "      <td>0</td>\n",
              "      <td>0</td>\n",
              "      <td>0</td>\n",
              "      <td>0</td>\n",
              "    </tr>\n",
              "    <tr>\n",
              "      <th>3</th>\n",
              "      <td>High fuel prices hit BA's profits British Airw...</td>\n",
              "      <td>1</td>\n",
              "      <td>0</td>\n",
              "      <td>0</td>\n",
              "      <td>0</td>\n",
              "      <td>0</td>\n",
              "    </tr>\n",
              "    <tr>\n",
              "      <th>4</th>\n",
              "      <td>Pernod takeover talk lifts Domecq Shares in UK...</td>\n",
              "      <td>1</td>\n",
              "      <td>0</td>\n",
              "      <td>0</td>\n",
              "      <td>0</td>\n",
              "      <td>0</td>\n",
              "    </tr>\n",
              "  </tbody>\n",
              "</table>\n",
              "</div>"
            ],
            "text/plain": [
              "                                            fulltext  business  ...  sport  tech\n",
              "0  Ad sales boost Time Warner profit Quarterly pr...         1  ...      0     0\n",
              "1  Dollar gains on Greenspan speech The dollar ha...         1  ...      0     0\n",
              "2  Yukos unit buyer faces loan claim The owners o...         1  ...      0     0\n",
              "3  High fuel prices hit BA's profits British Airw...         1  ...      0     0\n",
              "4  Pernod takeover talk lifts Domecq Shares in UK...         1  ...      0     0\n",
              "\n",
              "[5 rows x 6 columns]"
            ]
          },
          "metadata": {
            "tags": []
          },
          "execution_count": 20
        }
      ]
    },
    {
      "cell_type": "code",
      "metadata": {
        "colab": {
          "base_uri": "https://localhost:8080/"
        },
        "id": "C5zfD9Lq3A_b",
        "outputId": "7a10ea49-cb8e-44cb-c0f5-999821d7a946"
      },
      "source": [
        "# Lemmatizer & Stopwords Libraries Import\n",
        "\n",
        "import nltk\n",
        "import numpy as np\n",
        "nltk.download('stopwords')\n",
        "nltk.download('wordnet')\n",
        "nltk.download('punkt')\n",
        "from nltk.corpus import stopwords\n",
        "from nltk.stem import WordNetLemmatizer\n",
        "from nltk.tokenize.treebank import TreebankWordDetokenizer"
      ],
      "execution_count": 38,
      "outputs": [
        {
          "output_type": "stream",
          "text": [
            "[nltk_data] Downloading package stopwords to /root/nltk_data...\n",
            "[nltk_data]   Package stopwords is already up-to-date!\n",
            "[nltk_data] Downloading package wordnet to /root/nltk_data...\n",
            "[nltk_data]   Package wordnet is already up-to-date!\n",
            "[nltk_data] Downloading package punkt to /root/nltk_data...\n",
            "[nltk_data]   Package punkt is already up-to-date!\n"
          ],
          "name": "stdout"
        }
      ]
    },
    {
      "cell_type": "code",
      "metadata": {
        "id": "hZUJi3iaOECT"
      },
      "source": [
        "# Stop Words Filter\n",
        "\n",
        "def filter_stop_words(train_sentences, stop_words):\n",
        "    for i, sentence in enumerate(train_sentences):\n",
        "        new_sent = [word for word in sentence if word not in stop_words]\n",
        "        train_sentences[i] = ' '.join(new_sent)\n",
        "    return train_sentences"
      ],
      "execution_count": 40,
      "outputs": []
    },
    {
      "cell_type": "code",
      "metadata": {
        "id": "dOj4cfDE3X1a"
      },
      "source": [
        "# Stop Words Filtering & Word Lemmatizing\n",
        "\n",
        "stop_words = stopwords.words('english')\n",
        "\n",
        "def lemmatize_text(text):\n",
        "    lemmatizer = WordNetLemmatizer()\n",
        "    return [lemmatizer.lemmatize(w,pos='v') for w in text] \n",
        "\n",
        "text = df_new['fulltext'].apply(nltk.word_tokenize).apply(lemmatize_text)\n",
        "text = filter_stop_words(text, stop_words)"
      ],
      "execution_count": 39,
      "outputs": []
    },
    {
      "cell_type": "code",
      "metadata": {
        "colab": {
          "base_uri": "https://localhost:8080/"
        },
        "id": "1l3ZOufLDvZT",
        "outputId": "8cebb380-b3d1-4c53-9c85-dba041963302"
      },
      "source": [
        "# Train Test Split\n",
        "\n",
        "text = text.values\n",
        "label = df_new[['business','entertainment','politics','sport','tech']].values\n",
        "\n",
        "text_train, text_val, label_train, label_val = train_test_split(text, label, test_size=0.2)   # Validation Data 20% Total\n",
        "\n",
        "print(text_train)\n",
        "print(label_train)"
      ],
      "execution_count": 41,
      "outputs": [
        {
          "output_type": "stream",
          "text": [
            "[\"Ferguson rue failure cut gap Boss Sir Alex Ferguson leave rue Manchester United 's failure close gap Chelsea , Everton Arsenal side 's 1-1 draw Fulham . Premiership leaders Chelsea Gunners endure 2-2 stalemate Sunday , give United chance make grind league . But Ferguson say : `` I think make bad rival drop point weekend . `` It great opportunity - n't deliver . '' United go ahead Alan Smith 33rd minute Bouba Diop 's superb 25-yard strike cancel visitors ' lead 87th minute . Ferguson describe result `` absolute giveaway '' United earlier miss host opportunities finish encounter . He say : `` It good performance - football fantastic - n't finish . `` In fairness , 's fantastic strike Fulham player . '' The result leave Ferguson 's side fourth league 31 point - four point behind Arsenal five back Chelsea .\"\n",
            " \"Dollar drop reserve concern The US dollar drop major currencies concern central bank may cut amount dollars hold foreign reserve . Comments South Korea 's central bank end last week spark recent round dollar decline . South Korea , $ 200bn foreign reserve , say plan instead boost hold currencies Australian Canadian dollar . Analysts reckon nations may follow suit ditch dollar . At 1300 GMT , euro 0.9 % day 1.3187 euros per US dollar . The British pound add 0.5 % break $ 1.90 level , dollar fall 1.3 % Japanese yen trade 104.16 yen . At start year , US currency , lose 7 % euro final three months 2004 fall record low , stag something recovery . Analysts , however , point dollar 's inability recently extend rally despite positive economic corporate data , highlight fact many US 's economic problems disappear . The focus country 's massive trade budget deficits , predictions dollar weakness come . `` The comment Korea come time sentiment towards dollar already soften , '' say Ian Gunner , trader Mellon Financial . On Tuesday , traders Asia say South Korea Taiwan withdraw bid buy dollars start session . Mansoor Mohi-Uddin , chief currency strategist UBS , say sentiment market `` central bank Asia Middle East buy euros '' . A report last month already show dollar lose allure currency offer rock-steady return stability . Compiled Central Banking Publications sponsor UK 's Royal Bank Scotland , survey find 39 nations 65 question increase euro hold , 29 cut back US dollar .\"\n",
            " \"Radcliffe compete London Paula Radcliffe compete Flora London Marathon year decide schedule 2005 . The 31-year-old win race 2002 marathon debut , defend title 12 months later seek third title 17 April race . `` It n't get better 25th anniversary , '' say race director David Bedford . `` After announce greatest men 's field ever greatest women 's distance runner ever . '' Three years ago Radcliffe smash women 's world record two hours 18 minutes 15 second . The Bedford star return London 12 months later , lower mixed-race world record 2:17:18 , set Chicago October 2003 , one minute 53 secs . Radcliffe 's career take setback fail complete Olympic marathon later drop Athens 10,000m last August . But 31-year-old bounce back win New York Marathon November . Radcliffe , however , pass chance go `` Big City '' marathon grand slam . With win Chicago , London New York , Boston Marathon remain conquer take place day London . `` Boston definitely race I want point , London special , '' say Radcliffe . `` I n't pick race think things like pressure . I pick ones heart I really want . `` I love atmosphere , crowd course know always great quality race . `` It also 25th anniversary year add occasion . ''\"\n",
            " ...\n",
            " \"Saudi NCCI 's share soar Shares Saudi Arabia 's National Company Cooperative Insurance ( NCCI ) soar first day trade Riyadh . They trade 84 % offer price Monday , change hand 372 riyals ( $ 99 ; £53 ) top 400 early day . Demand insurer 's debut share strong - 12 time sale . The list part country 's plan open insurance market boost demand sector . Deregulation expect boost demand accident damage cover . Previously , NCCI legally allow offer insurance products within Saudi Arabia . However , authorities turn blind eye many firm sell insurance . Saudi Arabia want fully function insurance industry introduce legislation clamp unauthorised company . Policy-makers also want make insurance requirement , first take step boost public confidence system , analysts say . As result , NCCI develop industry 's flagship firm - publicly-listed , audit account . Saudi Arabia sell 7 million NCCI share , 70 % company 's total capital last month . More 800,000 applicants get 9 share 205 riyals apiece .\"\n",
            " \"Brown come shoot Labour may abolish hunt - n't stop Chancellor Gordon Brown use Budget fire barrel opposition party ' core election fox . Specifically , saw attempt slaughter council tax election issue tear limb limb wider policies pensioners families . In relatively short speech keep best last clearly give exactly pre-election boost everyone predict . So couple children , pensioner , patient youngster , something pull Mr Brown 's red box attempt persuade stick switch New Labour government . Like surgeon , attempt target handouts absolute precision onto exactly group government need appeal election campaign . The announcements bring great cheer MPs full-on election mode look man give ammunition doorsteps . They obviously believe , coincidentally , give image prime minister-in-waiting another little boost . Labour MPs , example , undoubtedly engage debate exactly redistributive - lovely Old Labour word - chancellor really . But Gordon Brown never go put show even cast man win Labour historic third term , demeanour remain quiet , confident reassure . Prudence make appearance , albeit towards end address , assure voters would nothing mess economic stability bring Britain , claim , would throw away anyone else . According opposition party , however , one big con trick . As always , accuse gloss facts `` black hole '' centre finance , claim , would ensure tax increase election . He obviously increase national insurance contributions 2001 election campaign pledge increase income tax . As Liberal Democrat leader Charles Kennedy claim , families distinction income tax tax income meaningless . Tory leader Michael Howard say chancellor old trick deliberately re-casting forecast give illusion everything Treasury larder fresh day first store away future use . He brand dodgy `` vote pay later '' budget base dodgy figure dodgy government give Britain dodgy dossier . Where chancellor mostly avoid direct electioneer , Mr Howard felt constraint attack like compare Mr Brown 's forecast prime minister 's forecast Iraq 's weapons mass destruction . As ever , period frantic activity opposition party ' treasury specialists pore chancellor 's red book , set fine detail budget , attempt spot flaw . In particular argument precisely whose policies council tax offer people best deal . And Labour circle undoubtedly argument good prime minister Gordon Brown make point next election .\"\n",
            " \"Madagascar complete currency switch Madagascar complete replacement Malagasy franc new currency , ariary . From Monday , price contract quote ariary , trade 1,893 US dollar . The Malagasy franc , lose almost half value 2004 , longer legal tender remain exchangeable bank 2009 . The phase franc , begin July 2003 , intend distance country past French colonial rule address problem large amount counterfeit francs circulation . `` It 's question sovereignty , '' Reuters quote central bank official say . `` It symbolic independence old colonial ways . Since leave French monetary zone 1973 currency name . '' The ariary name pre-colonial currency Indian Ocean island state .\"]\n",
            "[[0 0 0 1 0]\n",
            " [1 0 0 0 0]\n",
            " [0 0 0 1 0]\n",
            " ...\n",
            " [1 0 0 0 0]\n",
            " [0 0 1 0 0]\n",
            " [1 0 0 0 0]]\n"
          ],
          "name": "stdout"
        }
      ]
    },
    {
      "cell_type": "code",
      "metadata": {
        "id": "6xl0J2j8s3Zq"
      },
      "source": [
        "# Data Tokenizing, Sequencing, & Padding\n",
        "\n",
        "max_words = 1000      # Max Tokenized Words\n",
        "sent_length = 300     # Max Sentence Length\n",
        "trunc_type = \"post\"   # Truncation Type\n",
        "\n",
        "from tensorflow.keras.preprocessing.text import Tokenizer\n",
        "from tensorflow.keras.preprocessing.sequence import pad_sequences\n",
        "\n",
        "tokenizer = Tokenizer(num_words=max_words, oov_token='oov', filters='\"#$%&()*+,-./:;<=>@[\\\\]^_`{|}~\\t\\n1234567890') \n",
        "\n",
        "tokenizer.fit_on_texts(text_train) \n",
        "tokenizer.fit_on_texts(text_val)\n",
        "\n",
        "train_seq = tokenizer.texts_to_sequences(text_train)\n",
        "val_seq = tokenizer.texts_to_sequences(text_val )\n",
        " \n",
        "padded_train = pad_sequences(train_seq, truncating=trunc_type, maxlen=sent_length) \n",
        "padded_val = pad_sequences(val_seq, truncating=trunc_type, maxlen=sent_length)"
      ],
      "execution_count": 42,
      "outputs": []
    },
    {
      "cell_type": "code",
      "metadata": {
        "id": "CIbS5WB-HOhC",
        "colab": {
          "base_uri": "https://localhost:8080/"
        },
        "outputId": "8c34de51-ca3d-4d96-f7f4-860aa2af0fb2"
      },
      "source": [
        "# Model Design\n",
        "\n",
        "# 1 Embedding Layer, 1 LSTM Layer, 2 Hidden Layer, 1 Output Layer\n",
        "\n",
        "model = tf.keras.models.Sequential([\n",
        "    tf.keras.layers.Embedding(input_dim=max_words, output_dim=64, input_length=sent_length),  \n",
        "    tf.keras.layers.LSTM(128),\n",
        "    tf.keras.layers.Dense(64, activation='relu'),\n",
        "    tf.keras.layers.Dropout(0.5),\n",
        "    tf.keras.layers.Dense(64, activation='relu'),\n",
        "    tf.keras.layers.Dropout(0.5),\n",
        "    tf.keras.layers.Dense(5, activation='softmax')                                \n",
        "])\n",
        "\n",
        "# Model Compilation\n",
        "\n",
        "model.compile(loss='categorical_crossentropy',\n",
        "              optimizer='adam',\n",
        "              metrics=['accuracy'])\n",
        "\n",
        "model.summary()"
      ],
      "execution_count": 43,
      "outputs": [
        {
          "output_type": "stream",
          "text": [
            "Model: \"sequential_3\"\n",
            "_________________________________________________________________\n",
            "Layer (type)                 Output Shape              Param #   \n",
            "=================================================================\n",
            "embedding_3 (Embedding)      (None, 300, 64)           64000     \n",
            "_________________________________________________________________\n",
            "lstm_3 (LSTM)                (None, 128)               98816     \n",
            "_________________________________________________________________\n",
            "dense_7 (Dense)              (None, 64)                8256      \n",
            "_________________________________________________________________\n",
            "dropout_4 (Dropout)          (None, 64)                0         \n",
            "_________________________________________________________________\n",
            "dense_8 (Dense)              (None, 64)                4160      \n",
            "_________________________________________________________________\n",
            "dropout_5 (Dropout)          (None, 64)                0         \n",
            "_________________________________________________________________\n",
            "dense_9 (Dense)              (None, 5)                 325       \n",
            "=================================================================\n",
            "Total params: 175,557\n",
            "Trainable params: 175,557\n",
            "Non-trainable params: 0\n",
            "_________________________________________________________________\n"
          ],
          "name": "stdout"
        }
      ]
    },
    {
      "cell_type": "code",
      "metadata": {
        "id": "urCjNny5BFmB"
      },
      "source": [
        "# Callback Function Declaration\n",
        "\n",
        "class modelCallback(tf.keras.callbacks.Callback):\n",
        "  def on_epoch_end(self, epoch, logs={}):\n",
        "    if(logs.get('accuracy')>0.9 and logs.get('val_accuracy')>0.9):  \n",
        "      print(\"Accuracy Target of >90% on Both Datasets Reached, Stopping Training...\")\n",
        "      self.model.stop_training = True\n"
      ],
      "execution_count": 32,
      "outputs": []
    },
    {
      "cell_type": "code",
      "metadata": {
        "id": "tJ_KwTQJHT-U",
        "colab": {
          "base_uri": "https://localhost:8080/"
        },
        "outputId": "b677f6e5-91af-41c7-d6b6-af8ee199fcab"
      },
      "source": [
        "# Model Training\n",
        "\n",
        "history = model.fit(\n",
        "            padded_train,\n",
        "            label_train,\n",
        "            batch_size=32,                            # 32 Data per Batch Loading\n",
        "            steps_per_epoch=50,                       # 50 Batches Used per Epoch for Training\n",
        "            epochs=50,                                # 50 Maximum Epoch (Arbitratry)\n",
        "            validation_data=(padded_val,label_val),     \n",
        "            validation_steps=10,                      # 10 Batches Used per Epoch for Validation\n",
        "            callbacks=[modelCallback()],              # Callback\n",
        "            verbose='auto')\n"
      ],
      "execution_count": 36,
      "outputs": [
        {
          "output_type": "stream",
          "text": [
            "Epoch 1/50\n",
            "50/50 [==============================] - 18s 326ms/step - loss: 1.6258 - accuracy: 0.2375 - val_loss: 1.6045 - val_accuracy: 0.2625\n",
            "Epoch 2/50\n",
            "50/50 [==============================] - 16s 317ms/step - loss: 1.5776 - accuracy: 0.3111 - val_loss: 1.5241 - val_accuracy: 0.3406\n",
            "Epoch 3/50\n",
            "50/50 [==============================] - 16s 314ms/step - loss: 1.2559 - accuracy: 0.4219 - val_loss: 1.0502 - val_accuracy: 0.4406\n",
            "Epoch 4/50\n",
            "50/50 [==============================] - 16s 315ms/step - loss: 1.0550 - accuracy: 0.4830 - val_loss: 0.9497 - val_accuracy: 0.5219\n",
            "Epoch 5/50\n",
            "50/50 [==============================] - 16s 317ms/step - loss: 0.9868 - accuracy: 0.5491 - val_loss: 0.8544 - val_accuracy: 0.6156\n",
            "Epoch 6/50\n",
            "50/50 [==============================] - 16s 319ms/step - loss: 0.8522 - accuracy: 0.6266 - val_loss: 1.0206 - val_accuracy: 0.5875\n",
            "Epoch 7/50\n",
            "50/50 [==============================] - 16s 319ms/step - loss: 0.9591 - accuracy: 0.5472 - val_loss: 0.8485 - val_accuracy: 0.6281\n",
            "Epoch 8/50\n",
            "50/50 [==============================] - 16s 319ms/step - loss: 0.6761 - accuracy: 0.6889 - val_loss: 0.6024 - val_accuracy: 0.7094\n",
            "Epoch 9/50\n",
            "50/50 [==============================] - 16s 318ms/step - loss: 0.5163 - accuracy: 0.7374 - val_loss: 0.5968 - val_accuracy: 0.7312\n",
            "Epoch 10/50\n",
            "50/50 [==============================] - 16s 317ms/step - loss: 0.6457 - accuracy: 0.7031 - val_loss: 0.6526 - val_accuracy: 0.7031\n",
            "Epoch 11/50\n",
            "50/50 [==============================] - 16s 318ms/step - loss: 0.5031 - accuracy: 0.7550 - val_loss: 0.5097 - val_accuracy: 0.7500\n",
            "Epoch 12/50\n",
            "50/50 [==============================] - 16s 317ms/step - loss: 0.4372 - accuracy: 0.7639 - val_loss: 0.6102 - val_accuracy: 0.7188\n",
            "Epoch 13/50\n",
            "50/50 [==============================] - 16s 317ms/step - loss: 0.4470 - accuracy: 0.7878 - val_loss: 0.5915 - val_accuracy: 0.7344\n",
            "Epoch 14/50\n",
            "50/50 [==============================] - 16s 318ms/step - loss: 0.3784 - accuracy: 0.7928 - val_loss: 0.5607 - val_accuracy: 0.7625\n",
            "Epoch 15/50\n",
            "50/50 [==============================] - 16s 316ms/step - loss: 0.3425 - accuracy: 0.8060 - val_loss: 0.5519 - val_accuracy: 0.7563\n",
            "Epoch 16/50\n",
            "50/50 [==============================] - 16s 317ms/step - loss: 0.3525 - accuracy: 0.8004 - val_loss: 0.5496 - val_accuracy: 0.7437\n",
            "Epoch 17/50\n",
            "50/50 [==============================] - 16s 316ms/step - loss: 0.3402 - accuracy: 0.7922 - val_loss: 0.5808 - val_accuracy: 0.7437\n",
            "Epoch 18/50\n",
            "50/50 [==============================] - 16s 317ms/step - loss: 0.3073 - accuracy: 0.8186 - val_loss: 0.4785 - val_accuracy: 0.7750\n",
            "Epoch 19/50\n",
            "50/50 [==============================] - 16s 317ms/step - loss: 0.2969 - accuracy: 0.8169 - val_loss: 0.4828 - val_accuracy: 0.8125\n",
            "Epoch 20/50\n",
            "50/50 [==============================] - 16s 316ms/step - loss: 0.2675 - accuracy: 0.8715 - val_loss: 0.7533 - val_accuracy: 0.8250\n",
            "Epoch 21/50\n",
            "50/50 [==============================] - 16s 316ms/step - loss: 0.5448 - accuracy: 0.7991 - val_loss: 0.6796 - val_accuracy: 0.7563\n",
            "Epoch 22/50\n",
            "50/50 [==============================] - 16s 317ms/step - loss: 0.4054 - accuracy: 0.7941 - val_loss: 0.5517 - val_accuracy: 0.7688\n",
            "Epoch 23/50\n",
            "50/50 [==============================] - 16s 317ms/step - loss: 0.3175 - accuracy: 0.8281 - val_loss: 0.5210 - val_accuracy: 0.7719\n",
            "Epoch 24/50\n",
            "50/50 [==============================] - 16s 316ms/step - loss: 0.3078 - accuracy: 0.8457 - val_loss: 0.6019 - val_accuracy: 0.8062\n",
            "Epoch 25/50\n",
            "50/50 [==============================] - 16s 317ms/step - loss: 0.5136 - accuracy: 0.8249 - val_loss: 0.6159 - val_accuracy: 0.8156\n",
            "Epoch 26/50\n",
            "50/50 [==============================] - 16s 315ms/step - loss: 0.3426 - accuracy: 0.8659 - val_loss: 0.8158 - val_accuracy: 0.7469\n",
            "Epoch 27/50\n",
            "50/50 [==============================] - 16s 317ms/step - loss: 0.7791 - accuracy: 0.7525 - val_loss: 1.6368 - val_accuracy: 0.5844\n",
            "Epoch 28/50\n",
            "50/50 [==============================] - 16s 317ms/step - loss: 0.7797 - accuracy: 0.7292 - val_loss: 0.7258 - val_accuracy: 0.7531\n",
            "Epoch 29/50\n",
            "50/50 [==============================] - 16s 318ms/step - loss: 0.2874 - accuracy: 0.9175 - val_loss: 0.5513 - val_accuracy: 0.8594\n",
            "Epoch 30/50\n",
            "50/50 [==============================] - 16s 318ms/step - loss: 0.3597 - accuracy: 0.8942 - val_loss: 0.6168 - val_accuracy: 0.8094\n",
            "Epoch 31/50\n",
            "50/50 [==============================] - 16s 317ms/step - loss: 0.1472 - accuracy: 0.9591 - val_loss: 0.7011 - val_accuracy: 0.8531\n",
            "Epoch 32/50\n",
            "50/50 [==============================] - 16s 316ms/step - loss: 0.1649 - accuracy: 0.9628 - val_loss: 0.6263 - val_accuracy: 0.8813\n",
            "Epoch 33/50\n",
            "50/50 [==============================] - 16s 318ms/step - loss: 0.0985 - accuracy: 0.9736 - val_loss: 0.7027 - val_accuracy: 0.8625\n",
            "Epoch 34/50\n",
            "50/50 [==============================] - 16s 316ms/step - loss: 0.0794 - accuracy: 0.9811 - val_loss: 0.6219 - val_accuracy: 0.8781\n",
            "Epoch 35/50\n",
            "50/50 [==============================] - 16s 318ms/step - loss: 0.0704 - accuracy: 0.9836 - val_loss: 0.6965 - val_accuracy: 0.8531\n",
            "Epoch 36/50\n",
            "50/50 [==============================] - 16s 316ms/step - loss: 0.0439 - accuracy: 0.9918 - val_loss: 0.6120 - val_accuracy: 0.8875\n",
            "Epoch 37/50\n",
            "50/50 [==============================] - 16s 318ms/step - loss: 0.0415 - accuracy: 0.9918 - val_loss: 0.8439 - val_accuracy: 0.8719\n",
            "Epoch 38/50\n",
            "50/50 [==============================] - 16s 315ms/step - loss: 0.1520 - accuracy: 0.9631 - val_loss: 0.7638 - val_accuracy: 0.8469\n",
            "Epoch 39/50\n",
            "50/50 [==============================] - 16s 316ms/step - loss: 0.0518 - accuracy: 0.9861 - val_loss: 0.6294 - val_accuracy: 0.8906\n",
            "Epoch 40/50\n",
            "50/50 [==============================] - 16s 315ms/step - loss: 0.0270 - accuracy: 0.9937 - val_loss: 0.6324 - val_accuracy: 0.9000\n",
            "Epoch 41/50\n",
            "50/50 [==============================] - 16s 317ms/step - loss: 0.0237 - accuracy: 0.9956 - val_loss: 0.7043 - val_accuracy: 0.9000\n",
            "Epoch 42/50\n",
            "50/50 [==============================] - 16s 316ms/step - loss: 0.0170 - accuracy: 0.9975 - val_loss: 0.6405 - val_accuracy: 0.9125\n",
            "Accuracy Target of >90% on Both Datasets Reached, Stopping Training...\n"
          ],
          "name": "stdout"
        }
      ]
    },
    {
      "cell_type": "code",
      "metadata": {
        "colab": {
          "base_uri": "https://localhost:8080/",
          "height": 573
        },
        "id": "-hOo-QDyruna",
        "outputId": "536c380e-0ef2-4953-e5e5-391a96c69589"
      },
      "source": [
        "# Pyplot Import\n",
        "\n",
        "import matplotlib.pyplot as plt\n",
        "\n",
        "# Loss & Accuracy Graph\n",
        "\n",
        "plt.plot(history.history['loss'], color=\"orange\")\n",
        "plt.plot(history.history['val_loss'], color=\"red\")\n",
        "plt.title('Model loss')\n",
        "plt.ylabel('Loss')\n",
        "plt.xlabel('Epoch')\n",
        "plt.legend(['Train','Validation'], loc='upper right')\n",
        "plt.show()\n",
        "\n",
        "plt.plot(history.history['accuracy'], color=\"cyan\")\n",
        "plt.plot(history.history['val_accuracy'], color=\"blue\")\n",
        "plt.title('Model accuracy')\n",
        "plt.ylabel('Accuracy')\n",
        "plt.xlabel('Epoch')\n",
        "plt.legend(['Train','validation'], loc='lower right')\n",
        "plt.show()"
      ],
      "execution_count": 37,
      "outputs": [
        {
          "output_type": "display_data",
          "data": {
            "image/png": "[encoded data removed]",
            "text/plain": [
              "<Figure size 432x288 with 1 Axes>"
            ]
          },
          "metadata": {
            "tags": [],
            "needs_background": "light"
          }
        },
        {
          "output_type": "display_data",
          "data": {
            "image/png": "[encoded data removed]",
            "text/plain": [
              "<Figure size 432x288 with 1 Axes>"
            ]
          },
          "metadata": {
            "tags": [],
            "needs_background": "light"
          }
        }
      ]
    }
  ]
}